{
 "cells": [
  {
   "cell_type": "markdown",
   "metadata": {},
   "source": [
    "## Quesion 9/13\n",
    "> Given an input string like:\n",
    "\n",
    "> \"Well, sheep says beeeeee and cat says miaaaaaaaaaaaw - and a cow would shout mooooooooooow.\"\n",
    "\n",
    "> Extract the animal sounds from the string into a list.\n",
    "(Words that include charactr repetions longer than a 2-length sequence, as shown in the example.)"
   ]
  },
  {
   "cell_type": "markdown",
   "metadata": {},
   "source": [
    "** I have three solutions for this problem. **\n",
    "\n",
    "### Solution 1 - use `collections`:"
   ]
  },
  {
   "cell_type": "code",
   "execution_count": 16,
   "metadata": {
    "collapsed": true
   },
   "outputs": [],
   "source": [
    "import collections\n",
    "\n",
    "def animal_sound(s):\n",
    "    words = s.split()\n",
    "    result = []\n",
    "\n",
    "    for word in words:\n",
    "        most_count = collections.Counter(word).most_common(1)[0][1]\n",
    "        if most_count > 2:\n",
    "            result.append(word)\n",
    "\n",
    "    return result"
   ]
  },
  {
   "cell_type": "markdown",
   "metadata": {},
   "source": [
    "### Solution 2 - use `collections` and it is a one-line solution:"
   ]
  },
  {
   "cell_type": "code",
   "execution_count": 17,
   "metadata": {
    "collapsed": true
   },
   "outputs": [],
   "source": [
    "def animal_sound2(s):\n",
    "    return list(filter(lambda it: collections.Counter(it).most_common(1)[0][1] > 2, s.split()))"
   ]
  },
  {
   "cell_type": "markdown",
   "metadata": {},
   "source": [
    "### Solution 3 - no package imported"
   ]
  },
  {
   "cell_type": "code",
   "execution_count": 18,
   "metadata": {
    "collapsed": true
   },
   "outputs": [],
   "source": [
    "def animal_sound3(s):\n",
    "    words = s.split()\n",
    "    result = []\n",
    "\n",
    "    for word in words:\n",
    "        most_count = 0\n",
    "        for c in word:\n",
    "            if word.count(c) > most_count:\n",
    "                most_count = word.count(c)\n",
    "        if most_count > 2:\n",
    "            result.append(word)\n",
    "\n",
    "    return result"
   ]
  },
  {
   "cell_type": "markdown",
   "metadata": {},
   "source": [
    "Here is the test"
   ]
  },
  {
   "cell_type": "code",
   "execution_count": 19,
   "metadata": {},
   "outputs": [
    {
     "name": "stdout",
     "output_type": "stream",
     "text": [
      "['beeeeeeee', 'miaaaaaw', 'moooooow']\n",
      "['beeeeeeee', 'miaaaaaw', 'moooooow']\n",
      "['beeeeeeee', 'miaaaaaw', 'moooooow']\n"
     ]
    }
   ],
   "source": [
    "input = \"well, sheep says beeeeeeee and cat says miaaaaaw and a cow cound shout moooooow\"\n",
    "print(animal_sound(input))\n",
    "print(animal_sound2(input))\n",
    "print(animal_sound3(input))"
   ]
  },
  {
   "cell_type": "markdown",
   "metadata": {},
   "source": [
    "## Question 12/13\n",
    "> Implement a data structure that stores integers. We can add elements to the data structure.\n",
    "\n",
    "> The class has a pop_med() method, which returns and removes the element that is closest to the median. (In case of ambiguity, return the smaller closest element.)"
   ]
  },
  {
   "cell_type": "markdown",
   "metadata": {},
   "source": [
    "Below is my solution"
   ]
  },
  {
   "cell_type": "code",
   "execution_count": 20,
   "metadata": {
    "collapsed": true
   },
   "outputs": [],
   "source": [
    "from statistics import median\n",
    "class DataMed:\n",
    "    values = []\n",
    "\n",
    "    def add(self, v):\n",
    "        self.values.append(v)\n",
    "\n",
    "    def pop_med(self):\n",
    "        if len(self.values) == 0:\n",
    "            return None\n",
    "\n",
    "        m = median(self.values)\n",
    "\n",
    "        if m in self.values:\n",
    "            self.values.remove(m)\n",
    "            return m\n",
    "        else:\n",
    "            value_to_remove = self.values[0]\n",
    "            for value in self.values:\n",
    "                if abs(value - m) < abs(value_to_remove - m) and value < m:\n",
    "                    value_to_remove = value\n",
    "\n",
    "            self.values.remove(value_to_remove)\n",
    "            return value_to_remove"
   ]
  },
  {
   "cell_type": "markdown",
   "metadata": {},
   "source": [
    "Here is the test"
   ]
  },
  {
   "cell_type": "code",
   "execution_count": 21,
   "metadata": {},
   "outputs": [
    {
     "name": "stdout",
     "output_type": "stream",
     "text": [
      "4\n",
      "2\n",
      "7\n"
     ]
    }
   ],
   "source": [
    "ds = DataMed()\n",
    "ds.add(1)\n",
    "ds.add(4)\n",
    "ds.add(2)\n",
    "ds.add(7)\n",
    "ds.add(9)\n",
    "\n",
    "print(ds.pop_med())\n",
    "print(ds.pop_med())\n",
    "print(ds.pop_med())"
   ]
  },
  {
   "cell_type": "markdown",
   "metadata": {},
   "source": [
    "## Question 13/13\n",
    "\n",
    "> Implement a class that represents sorted lists (of basic orderable Python types, such as ascii characters or integers)."
   ]
  },
  {
   "cell_type": "markdown",
   "metadata": {},
   "source": [
    "Below is my solution"
   ]
  },
  {
   "cell_type": "code",
   "execution_count": 22,
   "metadata": {
    "collapsed": true
   },
   "outputs": [],
   "source": [
    "class SortedList(list):\n",
    "\n",
    "    def __init__(self, aList):\n",
    "        list.__init__(self)\n",
    "        self.extend(aList)\n",
    "        self.sort()\n",
    "\n",
    "    def add(self, value):\n",
    "        self.append(value)\n",
    "        self.sort()\n",
    "\n",
    "    def concat(self, another_list):\n",
    "        return sorted(self + another_list)"
   ]
  },
  {
   "cell_type": "markdown",
   "metadata": {},
   "source": [
    "Here is the test"
   ]
  },
  {
   "cell_type": "code",
   "execution_count": 23,
   "metadata": {},
   "outputs": [
    {
     "name": "stdout",
     "output_type": "stream",
     "text": [
      "['a', 'l', 'z']\n",
      "['a', 'b', 'l', 'z']\n",
      "['a', 'b', 'g', 'l', 'q', 'z']\n"
     ]
    }
   ],
   "source": [
    "l1 = SortedList(['z', 'l', 'a'])\n",
    "print(l1)\n",
    "\n",
    "l1.add('b')\n",
    "print(l1)\n",
    "\n",
    "l2 = SortedList(['q', 'g'])\n",
    "l3 = l1.concat(l2)\n",
    "print(l3)"
   ]
  }
 ],
 "metadata": {
  "kernelspec": {
   "display_name": "Python 3",
   "language": "python",
   "name": "python3"
  },
  "language_info": {
   "codemirror_mode": {
    "name": "ipython",
    "version": 3
   },
   "file_extension": ".py",
   "mimetype": "text/x-python",
   "name": "python",
   "nbconvert_exporter": "python",
   "pygments_lexer": "ipython3",
   "version": "3.6.3"
  }
 },
 "nbformat": 4,
 "nbformat_minor": 2
}
