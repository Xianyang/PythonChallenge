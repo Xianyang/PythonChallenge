{
 "cells": [
  {
   "cell_type": "markdown",
   "metadata": {
    "collapsed": true
   },
   "source": [
    "# Level 5\n",
    "\n",
    "[Question](http://www.pythonchallenge.com/pc/def/peak.html)\n",
    "\n",
    "Open the page source and find **peak hell sounds familiar**. If you pronounce **peak hell** fast, it sounds like **pickle**. So we can use *pickle* to solve this problem. \n",
    "\n",
    "Open the link [banner.p](http://www.pythonchallenge.com/pc/def/banner.p) in the source page. It is a serialized code. So we can use *pickle* to load it.\n",
    "\n",
    "After get the deserialized data, print it and the anwser will be shown. Here is the [link]() to next elve"
   ]
  }
 ],
 "metadata": {
  "anaconda-cloud": {},
  "kernelspec": {
   "display_name": "Python [default]",
   "language": "python",
   "name": "python2"
  },
  "language_info": {
   "codemirror_mode": {
    "name": "ipython",
    "version": 2
   },
   "file_extension": ".py",
   "mimetype": "text/x-python",
   "name": "python",
   "nbconvert_exporter": "python",
   "pygments_lexer": "ipython2",
   "version": "2.7.12"
  }
 },
 "nbformat": 4,
 "nbformat_minor": 1
}
