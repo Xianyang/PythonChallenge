{
 "cells": [
  {
   "cell_type": "markdown",
   "metadata": {
    "collapsed": true
   },
   "source": [
    "# Level 16\n",
    "\n",
    "[Question](http://www.pythonchallenge.com/pc/return/mozart.html)\n",
    "\n",
    "Just follow the hint: \"let me get this straight\". The image contains 5 pink pixels in each row, if you transfer those pixels to the first of the row, the magic will happen. \n",
    "\n",
    "## Solution 1"
   ]
  },
  {
   "cell_type": "code",
   "execution_count": 1,
   "metadata": {
    "collapsed": true
   },
   "outputs": [],
   "source": [
    "from PIL import Image\n",
    "\n",
    "def straighten(source):\n",
    "    target = source.copy()\n",
    "    for y in range(source.size[1]):\n",
    "        line = [source.getpixel((x, y)) for x in range(source.size[0])]\n",
    "        index = line.index(195)\n",
    "        new_line = line[index:] + line[:index]\n",
    "        for x, pixel in enumerate(new_line):\n",
    "            target.putpixel((x, y), pixel)\n",
    "\n",
    "\n",
    "    return target\n",
    "\n",
    "out = straighten(Image.open('../Resource/mozart_level16.gif'))\n",
    "# out.show()"
   ]
  },
  {
   "cell_type": "markdown",
   "metadata": {},
   "source": [
    "An image with the word 'romance' will show as below\n",
    "[![romance.jpg](https://s28.postimg.org/9wa9lndzx/romance.jpg)](https://postimg.org/image/p506zf7o9/)\n",
    "So the key to next level is 'romance' and here is the [link](http://www.pythonchallenge.com/pc/return/romance.html)\n",
    "\n",
    "Here is another solution using **ImageChops**\n",
    "## Solution 2"
   ]
  },
  {
   "cell_type": "code",
   "execution_count": 4,
   "metadata": {
    "collapsed": false
   },
   "outputs": [],
   "source": [
    "from PIL import Image, ImageChops\n",
    "\n",
    "image = Image.open(\"../Resource/mozart_level16.gif\")\n",
    "magic = chr(195)\n",
    "\n",
    "for y in range(image.size[1]):\n",
    "    box = 0, y, image.size[0], y + 1\n",
    "    row = image.crop(box)\n",
    "    bytes = row.tobytes()\n",
    "    i = bytes.index(magic)\n",
    "    row = ImageChops.offset(row, -i)\n",
    "    image.paste(row, box)\n",
    "    \n",
    "# image.save(\"new.gif\")\n",
    "# image.show()"
   ]
  }
 ],
 "metadata": {
  "anaconda-cloud": {},
  "kernelspec": {
   "display_name": "Python [default]",
   "language": "python",
   "name": "python2"
  },
  "language_info": {
   "codemirror_mode": {
    "name": "ipython",
    "version": 2
   },
   "file_extension": ".py",
   "mimetype": "text/x-python",
   "name": "python",
   "nbconvert_exporter": "python",
   "pygments_lexer": "ipython2",
   "version": "2.7.12"
  }
 },
 "nbformat": 4,
 "nbformat_minor": 1
}
