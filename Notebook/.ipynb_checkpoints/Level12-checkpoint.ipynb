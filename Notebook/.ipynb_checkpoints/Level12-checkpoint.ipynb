{
 "cells": [
  {
   "cell_type": "markdown",
   "metadata": {
    "collapsed": true
   },
   "source": [
    "# Level 12\n",
    "\n",
    "[Question](http://www.pythonchallenge.com/pc/return/evil.html)\n",
    "\n",
    "There are five piles of cards on the desk and there is a '5' on the back of every card. Open the source code you can find out that the image is named 'evil1.jpg'. So try to change the '1' to '2' and open the '[evil2.jpg](http://www.pythonchallenge.com/pc/return/evil2.jpg)'. It tells you not jpg but gfx. So change the surfix to .gfx and you will find a file named 'evil2.gfx' already download to your folder. \n",
    "\n",
    "The trick is to split the file into 5 parts and write the content to 5 files. And then you will see five images. \n",
    "\n",
    "## Solution"
   ]
  },
  {
   "cell_type": "code",
   "execution_count": 1,
   "metadata": {
    "collapsed": true
   },
   "outputs": [],
   "source": [
    "f = open(\"../Resource/evil2.gfx\", \"rb\").read()\n",
    "for i in range(5):\n",
    "    open(\"../Resource/level12_output/image\"+str(i)+\".dat\", \"wb\").write(f[i::5])"
   ]
  },
  {
   "cell_type": "markdown",
   "metadata": {},
   "source": [
    "Then five images show as below\n",
    "[![level12.png](https://s29.postimg.org/iwgfdwd47/level12.png)](https://postimg.org/image/c5zy4gpyb/)\n",
    "\n",
    "I don't know why the fourth image can not show. But according to the anwser, the text on the image is 'ional'. So the word is *disproportionality*. But the characters are scored out on the fifth image. Indeed, the anwser is *disproportional*\n",
    "\n",
    "And if you want to get the right extenion of these five files, you can use *Image* library of PIL. Here is the solution. "
   ]
  },
  {
   "cell_type": "code",
   "execution_count": 2,
   "metadata": {
    "collapsed": true
   },
   "outputs": [],
   "source": [
    "from PIL import Image\n",
    "from cStringIO import StringIO\n",
    "\n",
    "s = open(\"../Resource/evil2.gfx\", \"rb\").read()\n",
    "for i in range(5):\n",
    "    piece = s[i::5]  # every fifth byte, starting at i\n",
    "    im = Image.open(StringIO(piece))\n",
    "    f = open(\"../Resource/level12_output/%d.%s\" % (i, im.format.lower()), \"wb\")\n",
    "    f.write(piece)\n",
    "    f.close()"
   ]
  },
  {
   "cell_type": "markdown",
   "metadata": {},
   "source": [
    "Here is the [link](http://www.pythonchallenge.com/pc/return/disproportional.html) to next level. "
   ]
  }
 ],
 "metadata": {
  "anaconda-cloud": {},
  "kernelspec": {
   "display_name": "Python [default]",
   "language": "python",
   "name": "python2"
  },
  "language_info": {
   "codemirror_mode": {
    "name": "ipython",
    "version": 2
   },
   "file_extension": ".py",
   "mimetype": "text/x-python",
   "name": "python",
   "nbconvert_exporter": "python",
   "pygments_lexer": "ipython2",
   "version": "2.7.12"
  }
 },
 "nbformat": 4,
 "nbformat_minor": 1
}
