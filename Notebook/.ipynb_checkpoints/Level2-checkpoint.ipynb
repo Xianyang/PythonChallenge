{
 "cells": [
  {
   "cell_type": "markdown",
   "metadata": {},
   "source": [
    "# Level2\n",
    "\n",
    "[Level2](http://www.pythonchallenge.com/pc/def/ocr.html)\n",
    "\n",
    "In the page source you can find a massive meaningless string and a sentence saying **`find rare characters in the mess below:`**. This sentence indicates what we need to do. By checking the string we can find some characters. \n",
    "\n",
    "We firstly save the string to a local file and read the file."
   ]
  },
  {
   "cell_type": "code",
   "execution_count": 2,
   "metadata": {
    "collapsed": true
   },
   "outputs": [],
   "source": [
    "s = ''.join([line.rstrip() for line in open('../Resource/ocr.txt')])"
   ]
  },
  {
   "cell_type": "markdown",
   "metadata": {},
   "source": [
    "Then we count the occurrence for each character in this string. And the character with lower occurrence is the anwser"
   ]
  },
  {
   "cell_type": "code",
   "execution_count": 3,
   "metadata": {
    "collapsed": false
   },
   "outputs": [
    {
     "name": "stdout",
     "output_type": "stream",
     "text": [
      "equality\n"
     ]
    }
   ],
   "source": [
    "occurrence = {}\n",
    "for c in s: occurrence[c] = occurrence.get(c, 0) + 1\n",
    "average = len(s) // len(occurrence)\n",
    "print ''.join(c for c in s if occurrence[c] < average)"
   ]
  },
  {
   "cell_type": "markdown",
   "metadata": {},
   "source": [
    "Another way is to find all the character except the symbols. This way is easy to understand but may output the wrong anwser. "
   ]
  },
  {
   "cell_type": "code",
   "execution_count": 4,
   "metadata": {
    "collapsed": false
   },
   "outputs": [
    {
     "name": "stdout",
     "output_type": "stream",
     "text": [
      "equality\n"
     ]
    }
   ],
   "source": [
    "import string\n",
    "print filter(lambda x: x in string.letters, s)"
   ]
  },
  {
   "cell_type": "markdown",
   "metadata": {},
   "source": [
    "So the key to next level is **equlity**. Here is the [link](http://www.pythonchallenge.com/pc/def/equality.html)"
   ]
  }
 ],
 "metadata": {
  "anaconda-cloud": {},
  "kernelspec": {
   "display_name": "Python [default]",
   "language": "python",
   "name": "python2"
  },
  "language_info": {
   "codemirror_mode": {
    "name": "ipython",
    "version": 2
   },
   "file_extension": ".py",
   "mimetype": "text/x-python",
   "name": "python",
   "nbconvert_exporter": "python",
   "pygments_lexer": "ipython2",
   "version": "2.7.12"
  }
 },
 "nbformat": 4,
 "nbformat_minor": 1
}
