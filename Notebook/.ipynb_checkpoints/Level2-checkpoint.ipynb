{
 "cells": [
  {
   "cell_type": "markdown",
   "metadata": {},
   "source": [
    "# Level2\n",
    "\n",
    "[Question](http://www.pythonchallenge.com/pc/def/ocr.html)\n",
    "\n",
    "In the page source you can find a massive meaningless string and a sentence saying **`find rare characters in the mess below:`**. This sentence indicates what we need to do. By checking the string we can find some characters. \n",
    "\n",
    "We firstly save the string to a local file and read the file."
   ]
  },
  {
   "cell_type": "code",
   "execution_count": 3,
   "metadata": {
    "collapsed": true
   },
   "outputs": [],
   "source": [
    "s = ''.join([line.rstrip() for line in open('../Resource/ocr.txt')])"
   ]
  },
  {
   "cell_type": "markdown",
   "metadata": {},
   "source": [
    "Then we count the occurrence for each character in this string. And the character with lower occurrence is the anwser\n",
    "\n",
    "### Solution 1"
   ]
  },
  {
   "cell_type": "code",
   "execution_count": 4,
   "metadata": {
    "collapsed": false
   },
   "outputs": [
    {
     "name": "stdout",
     "output_type": "stream",
     "text": [
      "equality\n"
     ]
    }
   ],
   "source": [
    "occurrence = {}\n",
    "for c in s: occurrence[c] = occurrence.get(c, 0) + 1\n",
    "average = len(s) // len(occurrence)\n",
    "print ''.join(c for c in s if occurrence[c] < average)"
   ]
  },
  {
   "cell_type": "markdown",
   "metadata": {},
   "source": [
    "### Solution 2 - Single line solution\n",
    "\n",
    "Another way is to find all the character except the symbols. This way is easy to understand but may output the wrong anwser. "
   ]
  },
  {
   "cell_type": "code",
   "execution_count": 9,
   "metadata": {
    "collapsed": false
   },
   "outputs": [
    {
     "name": "stdout",
     "output_type": "stream",
     "text": [
      "equality\n"
     ]
    }
   ],
   "source": [
    "import string\n",
    "print filter(lambda x: x in string.letters and s.count(x) <= 100, s)"
   ]
  },
  {
   "cell_type": "markdown",
   "metadata": {},
   "source": [
    "### Solution 3\n",
    "\n",
    "This solution is more readable and easy to understand. It assumes rare characters will appear less than 100 times"
   ]
  },
  {
   "cell_type": "code",
   "execution_count": 10,
   "metadata": {
    "collapsed": false
   },
   "outputs": [
    {
     "name": "stdout",
     "output_type": "stream",
     "text": [
      "equality\n"
     ]
    }
   ],
   "source": [
    "occurrence = {}\n",
    "output = ''\n",
    "for c in s:\n",
    "    if c in occurrence.keys():\n",
    "        continue\n",
    "    else:\n",
    "        count = occurrence[c] = s.count(c)\n",
    "        if count < 100:\n",
    "            output += c\n",
    "\n",
    "print output"
   ]
  },
  {
   "cell_type": "markdown",
   "metadata": {},
   "source": [
    "### Solution 4 - Single line solution\n",
    "\n",
    "This solution is simiar to solution 2. But it use *join()* instead of *lambda*"
   ]
  },
  {
   "cell_type": "code",
   "execution_count": 11,
   "metadata": {
    "collapsed": false
   },
   "outputs": [
    {
     "name": "stdout",
     "output_type": "stream",
     "text": [
      "equality\n"
     ]
    }
   ],
   "source": [
    "print ''.join(c for c in s if c.isalpha() and s.count(c) < 100)"
   ]
  },
  {
   "cell_type": "markdown",
   "metadata": {},
   "source": [
    "So the key to next level is **equality**. Here is the [link](http://www.pythonchallenge.com/pc/def/equality.html)"
   ]
  }
 ],
 "metadata": {
  "anaconda-cloud": {},
  "kernelspec": {
   "display_name": "Python [default]",
   "language": "python",
   "name": "python2"
  },
  "language_info": {
   "codemirror_mode": {
    "name": "ipython",
    "version": 2
   },
   "file_extension": ".py",
   "mimetype": "text/x-python",
   "name": "python",
   "nbconvert_exporter": "python",
   "pygments_lexer": "ipython2",
   "version": "2.7.12"
  }
 },
 "nbformat": 4,
 "nbformat_minor": 1
}
