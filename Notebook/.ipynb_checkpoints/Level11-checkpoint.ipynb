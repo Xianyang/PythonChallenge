{
 "cells": [
  {
   "cell_type": "markdown",
   "metadata": {
    "collapsed": true
   },
   "source": [
    "# Level 11\n",
    "\n",
    "[Question](http://www.pythonchallenge.com/pc/return/5808.html)\n",
    "\n",
    "> The somewhat vague image requires some sifting; into odd and even pieces,in fact. You can split out the image into four: one holding all pixels at the even x and y coordinates, one with the odd coordinates, and two with either the x or the y coordinates odd and the other even:\n",
    "\n",
    "The image on the question page is wierd and there is nothing in the page source. But the title is \"odd even\". So try to split the pixels of the picture. \n",
    "\n",
    "## Solution"
   ]
  },
  {
   "cell_type": "code",
   "execution_count": 1,
   "metadata": {
    "collapsed": true
   },
   "outputs": [],
   "source": [
    "from PIL import Image\n",
    "\n",
    "# download the image from http://www.pythonchallenge.com/pc/return/5808.html\n",
    "\n",
    "image = Image.open('../Resource/level11_5808.jpg')\n",
    "nsize = tuple([x / 2 for x in image.size])\n",
    "odd = even = odd_even1 = odd_even2 = Image.new(image.mode, nsize)\n",
    "\n",
    "for x in range(image.size[0]):\n",
    "    for y in range(image.size[1]):\n",
    "        if x % 2 == 0 and y % 2 == 0:\n",
    "            even.putpixel((x / 2, y / 2), image.getpixel((x, y)))\n",
    "        elif x % 2 == 0 and y % 2 == 1:\n",
    "            odd_even1.putpixel((x / 2, (y - 1) / 2), image.getpixel((x, y)))\n",
    "        elif x % 2 == 1 and y % 2 == 0:\n",
    "            odd_even2.putpixel(((x - 1) / 2, y / 2), image.getpixel((x, y)))\n",
    "        else:\n",
    "            odd.putpixel(((x - 1) / 2, (y - 1) / 2), image.getpixel((x, y)))\n",
    "\n",
    "# even.show()\n",
    "# odd.show()\n",
    "# odd_even1.show()\n",
    "# odd_even2.show()"
   ]
  },
  {
   "cell_type": "markdown",
   "metadata": {},
   "source": [
    "An image as below will show and the anwser is \"evil\". Here is the [link](http://www.pythonchallenge.com/pc/return/evil.html) to next level. \n",
    "\n",
    "[![Screen Shot 2016-12-30 at 17.28.54.png](https://s28.postimg.org/3nh7xtfr1/Screen_Shot_2016_12_30_at_17_28_54.png)](https://postimg.org/image/fpclryozd/)"
   ]
  }
 ],
 "metadata": {
  "anaconda-cloud": {},
  "kernelspec": {
   "display_name": "Python [default]",
   "language": "python",
   "name": "python2"
  },
  "language_info": {
   "codemirror_mode": {
    "name": "ipython",
    "version": 2
   },
   "file_extension": ".py",
   "mimetype": "text/x-python",
   "name": "python",
   "nbconvert_exporter": "python",
   "pygments_lexer": "ipython2",
   "version": "2.7.12"
  }
 },
 "nbformat": 4,
 "nbformat_minor": 1
}
