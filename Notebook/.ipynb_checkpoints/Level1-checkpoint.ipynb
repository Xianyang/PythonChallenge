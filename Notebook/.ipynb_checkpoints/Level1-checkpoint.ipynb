{
 "cells": [
  {
   "cell_type": "markdown",
   "metadata": {
    "collapsed": true
   },
   "source": [
    "# Level1\n",
    "\n",
    "[Question](http://www.pythonchallenge.com/pc/def/map.html)\n",
    "\n",
    "There is a image on the web page showing `K->M`, `O->Q`, `E->G`. Apparently to get the second letter, we need to move the first letter twice backward. And there is a strange sentence below the image. It seems like a code. To get the anwser, we need to move all the letter twice backward. "
   ]
  },
  {
   "cell_type": "markdown",
   "metadata": {},
   "source": [
    "### Solution 1\n",
    "\n",
    "This solution uses *maketrans()*"
   ]
  },
  {
   "cell_type": "code",
   "execution_count": 2,
   "metadata": {
    "collapsed": false,
    "scrolled": true
   },
   "outputs": [
    {
     "name": "stdout",
     "output_type": "stream",
     "text": [
      "i hope you didnt translate it by hand. thats what computers are for. doing it in by hand is\n",
      "inefficient and that's why this text is so long. using string.maketrans() is recommended. now apply on the url.\n"
     ]
    }
   ],
   "source": [
    "import string\n",
    "\n",
    "s = \"\"\"g fmnc wms bgblr rpylqjyrc gr zw fylb. rfyrq ufyr amknsrcpq ypc dmp. bmgle gr gl zw fylb gq\n",
    "glcddgagclr ylb rfyr'q ufw rfgq rcvr gq qm jmle. sqgle qrpgle.kyicrpylq() gq pcamkkclbcb. lmu ynnjw ml rfc spj.\"\"\"\n",
    "\n",
    "# solution 1 - use translate table\n",
    "l = string.ascii_lowercase\n",
    "table = string.maketrans(l, l[2:] + l[:2])\n",
    "\n",
    "print string.translate(s, table)"
   ]
  },
  {
   "cell_type": "markdown",
   "metadata": {},
   "source": [
    "### Solution 2\n",
    "\n",
    "This solution uses chr() and ord() to transfer the characters"
   ]
  },
  {
   "cell_type": "code",
   "execution_count": 3,
   "metadata": {
    "collapsed": false
   },
   "outputs": [
    {
     "name": "stdout",
     "output_type": "stream",
     "text": [
      "i hope you didnt translate it by hand. thats what computers are for. doing it in by hand is\n",
      "inefficient and that's why this text is so long. using string.maketrans() is recommended. now apply on the url.\n"
     ]
    }
   ],
   "source": [
    "o = ''\n",
    "for c in s:\n",
    "    if ord('a') <= ord(c) <= ord('z'):\n",
    "        o += chr((ord(c) + 2 - ord('a')) % 26 + ord('a'))\n",
    "    else:\n",
    "        o += c\n",
    "\n",
    "print o"
   ]
  },
  {
   "cell_type": "markdown",
   "metadata": {},
   "source": [
    "### Solution 3\n",
    "\n",
    "These solutions use map(), chr() and ord() to sovle the problem. They looks pretty simple and easy to understand"
   ]
  },
  {
   "cell_type": "code",
   "execution_count": 4,
   "metadata": {
    "collapsed": false
   },
   "outputs": [
    {
     "name": "stdout",
     "output_type": "stream",
     "text": [
      "i hope you didnt translate it by hand. thats what computers are for. doing it in by hand is\n",
      "inefficient and that's why this text is so long. using string.maketrans() is recommended. now apply on the url.\n",
      "i hope you didnt translate it by hand. thats what computers are for. doing it in by hand is\n",
      "inefficient and that's why this text is so long. using string.maketrans() is recommended. now apply on the url.\n"
     ]
    }
   ],
   "source": [
    "print ''.join(map(lambda x: x.isalpha() and chr((ord(x)+2-ord(\"a\")) % 26 + ord(\"a\")) or x, s))\n",
    "print ''.join(map(lambda x: chr((ord(x)+2-ord(\"a\")) % 26 + ord(\"a\")) if x.isalpha() else x, s))"
   ]
  },
  {
   "cell_type": "markdown",
   "metadata": {},
   "source": [
    "As the output say, the anwser is to apply this method to url. So `map` -> `ocr`.\n",
    "Here is the [link](http://www.pythonchallenge.com/pc/def/ocr.html) to level2"
   ]
  }
 ],
 "metadata": {
  "anaconda-cloud": {},
  "kernelspec": {
   "display_name": "Python [default]",
   "language": "python",
   "name": "python2"
  },
  "language_info": {
   "codemirror_mode": {
    "name": "ipython",
    "version": 2
   },
   "file_extension": ".py",
   "mimetype": "text/x-python",
   "name": "python",
   "nbconvert_exporter": "python",
   "pygments_lexer": "ipython2",
   "version": "2.7.12"
  }
 },
 "nbformat": 4,
 "nbformat_minor": 1
}
