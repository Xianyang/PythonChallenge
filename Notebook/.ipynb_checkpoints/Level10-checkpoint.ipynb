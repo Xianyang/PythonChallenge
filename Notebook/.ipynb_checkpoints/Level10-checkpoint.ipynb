{
 "cells": [
  {
   "cell_type": "markdown",
   "metadata": {
    "collapsed": true
   },
   "source": [
    "# Level 10\n",
    "\n",
    "[Question](http://www.pythonchallenge.com/pc/return/bull.html)\n",
    "\n",
    "There are two bulls on the question page and a sentence: **len(a[30])?**. \n",
    "Open the page source and there is a link for [sequence.txt](http://www.pythonchallenge.com/pc/return/sequence.txt). You need to input user name and password if you open the file for the first time. Actually the user name and password is the same as in Question8. \n",
    "\n",
    "Username: huge\n",
    "Password: file\n",
    "\n",
    "And I guess if a question needs a file to give us a hint, the password will always be it. \n",
    "\n",
    "You "
   ]
  }
 ],
 "metadata": {
  "anaconda-cloud": {},
  "kernelspec": {
   "display_name": "Python [default]",
   "language": "python",
   "name": "python2"
  },
  "language_info": {
   "codemirror_mode": {
    "name": "ipython",
    "version": 2
   },
   "file_extension": ".py",
   "mimetype": "text/x-python",
   "name": "python",
   "nbconvert_exporter": "python",
   "pygments_lexer": "ipython2",
   "version": "2.7.12"
  }
 },
 "nbformat": 4,
 "nbformat_minor": 1
}
