{
 "cells": [
  {
   "cell_type": "markdown",
   "metadata": {
    "collapsed": true
   },
   "source": [
    "# Level 15\n",
    "\n",
    "[Question](http://www.pythonchallenge.com/pc/return/uzi.html)\n",
    "\n",
    "There is a calendar on the question page. And from the right corner we can tell that it is a leap year. So we should find all leap year begins with '1' and ends with '6'. And Jan. of that year should be the same with the calendar on question page. \n",
    "\n",
    "## Solution"
   ]
  },
  {
   "cell_type": "code",
   "execution_count": 1,
   "metadata": {
    "collapsed": false
   },
   "outputs": [
    {
     "name": "stdout",
     "output_type": "stream",
     "text": [
      "1756\n"
     ]
    }
   ],
   "source": [
    "import calendar\n",
    "\n",
    "print [i for i in range(1006, 2006, 10) if calendar.weekday(i, 1, 1) == 3 and calendar.isleap(i)][-2]"
   ]
  },
  {
   "cell_type": "markdown",
   "metadata": {},
   "source": [
    "Hint: 'buy flowers for tomorrow'. So 1.27 is an important day. If you google it, that day is the birthday of mozart. So 'mozart' is the key for next [level](http://www.pythonchallenge.com/pc/return/mozart.html) "
   ]
  }
 ],
 "metadata": {
  "anaconda-cloud": {},
  "kernelspec": {
   "display_name": "Python [default]",
   "language": "python",
   "name": "python2"
  },
  "language_info": {
   "codemirror_mode": {
    "name": "ipython",
    "version": 2
   },
   "file_extension": ".py",
   "mimetype": "text/x-python",
   "name": "python",
   "nbconvert_exporter": "python",
   "pygments_lexer": "ipython2",
   "version": "2.7.12"
  }
 },
 "nbformat": 4,
 "nbformat_minor": 1
}
