{
 "cells": [
  {
   "cell_type": "markdown",
   "metadata": {
    "collapsed": true
   },
   "source": [
    "# Level 14\n",
    "\n",
    "[Question](http://www.pythonchallenge.com/pc/return/italy.html)\n",
    "\n",
    "Open the image named 'wire' in the page source, you can see anything. Base on the name and the tile we can guess that this is an image with 10000 pixel width and 1 pixel height. What we need to do is transferring the image to 100 * 100 using clockwards and inwards as the bread on the question page. \n",
    "\n",
    "## Solution 1"
   ]
  },
  {
   "cell_type": "code",
   "execution_count": 1,
   "metadata": {
    "collapsed": true
   },
   "outputs": [],
   "source": [
    "from PIL import Image\n",
    "\n",
    "source = Image.open('../Resource/wire_level14.png')\n",
    "target = Image.new(source.mode, (100, 100))\n",
    "\n",
    "def is_boundary(x, y, i):\n",
    "    if x == 100 or y == 100 or x == -1 or y == -1:\n",
    "        return True\n",
    "    if target.getpixel((x, y)) != (0, 0, 0):\n",
    "        return True\n",
    "\n",
    "    return False\n",
    "\n",
    "x, y = 0, 0\n",
    "dir = 'E'\n",
    "\n",
    "for i in xrange(0, 10000):\n",
    "    target.putpixel((x, y), source.getpixel((i, 0)))\n",
    "    if dir == 'E':\n",
    "        x += 1\n",
    "        if is_boundary(x, y, i + 1):\n",
    "            dir = 'S'\n",
    "            x -= 1\n",
    "            y += 1\n",
    "    elif dir == 'S':\n",
    "        y += 1\n",
    "        if is_boundary(x, y, i + 1):\n",
    "            dir = 'W'\n",
    "            y -= 1\n",
    "            x -= 1\n",
    "\n",
    "    elif dir == 'W':\n",
    "        x -= 1\n",
    "        if is_boundary(x, y, i + 1):\n",
    "            dir = 'N'\n",
    "            x += 1\n",
    "            y -= 1\n",
    "\n",
    "    elif dir == 'N':\n",
    "        y -= 1\n",
    "        if is_boundary(x, y, i + 1):\n",
    "            dir = 'E'\n",
    "            y += 1\n",
    "            x += 1\n",
    "\n",
    "# target.show()"
   ]
  },
  {
   "cell_type": "markdown",
   "metadata": {},
   "source": [
    "If you uncomment the last code then an image will show. The image shows you a cat like below\n",
    "[![cat.png](https://s27.postimg.org/68c87dgkz/cat.png)](https://postimg.org/image/h7xfiz6zz/)\n",
    "If you type in 'cat' you will see a larger picture of this [cat](http://www.pythonchallenge.com/pc/return/cat.html). Indeed the key to next level is 'uzi'. And here is the [link](http://www.pythonchallenge.com/pc/return/uzi.html) to next level. \n",
    "\n",
    "And here are other solutions\n",
    "\n",
    "## Solution 2"
   ]
  },
  {
   "cell_type": "code",
   "execution_count": 2,
   "metadata": {
    "collapsed": true
   },
   "outputs": [],
   "source": [
    "from PIL import Image\n",
    "\n",
    "src = Image.open('../Resource/wire_level14.png')\n",
    "dst = Image.new(src.mode, (100, 100))\n",
    "x, y, idx = -1, 0, 0            # back a step\n",
    "steps = [1,0, 0,1, -1,0, 0,-1]\n",
    "while idx < 10000:\n",
    "    nx, ny = x + steps[0], y + steps[1]\n",
    "    if 0 <= nx < 100 and 0 <= ny < 100 \\\n",
    "            and dst.getpixel((nx, ny)) == (0, 0, 0):\n",
    "        x, y = nx, ny\n",
    "        dst.putpixel((x, y), src.getpixel((idx, 0)))\n",
    "        idx += 1\n",
    "    else:\n",
    "        steps = steps[2:] + steps[:2] # turn\n",
    "# dst.show()"
   ]
  }
 ],
 "metadata": {
  "anaconda-cloud": {},
  "kernelspec": {
   "display_name": "Python [default]",
   "language": "python",
   "name": "python2"
  },
  "language_info": {
   "codemirror_mode": {
    "name": "ipython",
    "version": 2
   },
   "file_extension": ".py",
   "mimetype": "text/x-python",
   "name": "python",
   "nbconvert_exporter": "python",
   "pygments_lexer": "ipython2",
   "version": "2.7.12"
  }
 },
 "nbformat": 4,
 "nbformat_minor": 1
}
