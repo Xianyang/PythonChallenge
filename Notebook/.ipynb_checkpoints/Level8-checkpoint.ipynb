{
 "cells": [
  {
   "cell_type": "markdown",
   "metadata": {
    "collapsed": true
   },
   "source": [
    "# Level 8\n",
    "\n",
    "[Question](http://www.pythonchallenge.com/pc/def/integrity.html)\n",
    "\n",
    "The bee in the picture meens \"Busy\". And we are solving the question so we are busy two. The hint is **bz2**. Just use **bz2** to decompress the string and you will get the answer\n",
    "\n",
    "## Solution"
   ]
  },
  {
   "cell_type": "code",
   "execution_count": 1,
   "metadata": {
    "collapsed": false
   },
   "outputs": [
    {
     "name": "stdout",
     "output_type": "stream",
     "text": [
      "huge\n",
      "file\n"
     ]
    }
   ],
   "source": [
    "import bz2\n",
    "\n",
    "un = \"BZh91AY&SYA\\xaf\\x82\\r\\x00\\x00\\x01\\x01\\x80\\x02\\xc0\\x02\\x00 \\x00!\" \\\n",
    "     \"\\x9ah3M\\x07<]\\xc9\\x14\\xe1BA\\x06\\xbe\\x084\"\n",
    "pw = \"BZh91AY&SY\\x94$|\\x0e\\x00\\x00\\x00\\x81\\x00\\x03$ \\x00!\" \\\n",
    "     \"\\x9ah3M\\x13<]\\xc9\\x14\\xe1BBP\\x91\\xf08\"\n",
    "\n",
    "print bz2.decompress(un)\n",
    "print bz2.decompress(pw)"
   ]
  },
  {
   "cell_type": "markdown",
   "metadata": {},
   "source": [
    "Then you should click the bee and it asks for user name and password. "
   ]
  }
 ],
 "metadata": {
  "anaconda-cloud": {},
  "kernelspec": {
   "display_name": "Python [default]",
   "language": "python",
   "name": "python2"
  },
  "language_info": {
   "codemirror_mode": {
    "name": "ipython",
    "version": 2
   },
   "file_extension": ".py",
   "mimetype": "text/x-python",
   "name": "python",
   "nbconvert_exporter": "python",
   "pygments_lexer": "ipython2",
   "version": "2.7.12"
  }
 },
 "nbformat": 4,
 "nbformat_minor": 1
}
