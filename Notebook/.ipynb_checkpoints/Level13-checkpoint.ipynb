{
 "cells": [
  {
   "cell_type": "markdown",
   "metadata": {
    "collapsed": true
   },
   "source": [
    "# Level 13\n",
    "\n",
    "[Question](http://www.pythonchallenge.com/pc/return/disproportional.html)\n",
    "\n",
    "Use [xmlrpclib](https://docs.python.org/2/library/xmlrpclib.html) to solve this question. Remember evil4.jpg in the previous level, which claims that 'Bert' is the evil. So below is the solution\n",
    "\n",
    "## Solution"
   ]
  },
  {
   "cell_type": "code",
   "execution_count": 1,
   "metadata": {
    "collapsed": false
   },
   "outputs": [
    {
     "name": "stdout",
     "output_type": "stream",
     "text": [
      "555-ITALY\n"
     ]
    }
   ],
   "source": [
    "import xmlrpclib\n",
    "url = 'http://www.pythonchallenge.com/pc/phonebook.php'\n",
    "phonebook = xmlrpclib.Server(url)\n",
    "print phonebook.phone('Bert')"
   ]
  },
  {
   "cell_type": "markdown",
   "metadata": {},
   "source": [
    "Actually **italy** is the anwser to next level and here is the [link](http://www.pythonchallenge.com/pc/return/italy.html)"
   ]
  }
 ],
 "metadata": {
  "anaconda-cloud": {},
  "kernelspec": {
   "display_name": "Python [default]",
   "language": "python",
   "name": "python2"
  },
  "language_info": {
   "codemirror_mode": {
    "name": "ipython",
    "version": 2
   },
   "file_extension": ".py",
   "mimetype": "text/x-python",
   "name": "python",
   "nbconvert_exporter": "python",
   "pygments_lexer": "ipython2",
   "version": "2.7.12"
  }
 },
 "nbformat": 4,
 "nbformat_minor": 1
}
