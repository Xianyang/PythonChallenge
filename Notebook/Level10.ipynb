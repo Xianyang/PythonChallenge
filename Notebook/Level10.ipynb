{
 "cells": [
  {
   "cell_type": "markdown",
   "metadata": {
    "collapsed": true
   },
   "source": [
    "# Level 10\n",
    "\n",
    "[Question](http://www.pythonchallenge.com/pc/return/bull.html)\n",
    "\n",
    "There are two bulls on the question page and a sentence: **len(a[30])?**. \n",
    "Open the page source and there is a link for [sequence.txt](http://www.pythonchallenge.com/pc/return/sequence.txt). You need to input user name and password if you open the file for the first time. Actually the user name and password is the same as in Question8. \n",
    "\n",
    "Username: huge\n",
    "Password: file\n",
    "\n",
    "And I guess if a question needs a file to give us a hint, the password will always be it. \n",
    "\n",
    "Sequence.txt shows a unfinished list as below\n",
    "**[1, 11, 21, 1211, 111221, ...**\n",
    "This is only the first five object of the list and we need to find the rule. If you are fimiliar with math you will find out that this sequence is called [look and say sequence](https://en.wikipedia.org/wiki/Look-and-say_sequence). \n",
    "\n",
    "> - 1 is read off as \"one 1\" or 11.\n",
    "> - 11 is read off as \"two 1s\" or 21.\n",
    "> - 21 is read off as \"one 2, then one 1\" or 1211.\n",
    "> - 1211 is read off as \"one 1, one 2, then two 1s\" or 111221.\n",
    "> - 111221 is read off as \"three 1s, two 2s, then one 1\" or 312211.\n",
    "\n",
    "So we need to write a method to generate the number in this sequence. It is pretty easy.\n",
    "\n",
    "## Solution"
   ]
  },
  {
   "cell_type": "code",
   "execution_count": 1,
   "metadata": {
    "collapsed": false
   },
   "outputs": [
    {
     "name": "stdout",
     "output_type": "stream",
     "text": [
      "5808\n"
     ]
    }
   ],
   "source": [
    "# a = [1, 11, 21, 1211, 111221,\n",
    "\n",
    "\n",
    "# this is a look-and-say sequence\n",
    "\n",
    "import re\n",
    "\n",
    "def describe(s):\n",
    "    sequence = re.findall('1+|2+|3+', s)\n",
    "    return ''.join(str(len(x)) + x[0] for x in sequence)\n",
    "\n",
    "s = '1'\n",
    "for i in range(30):\n",
    "    s = describe(s)\n",
    "\n",
    "print len(s)\n"
   ]
  },
  {
   "cell_type": "markdown",
   "metadata": {},
   "source": [
    "So the anwser is **5808**. Here is the [link]() to next level. "
   ]
  }
 ],
 "metadata": {
  "anaconda-cloud": {},
  "kernelspec": {
   "display_name": "Python [default]",
   "language": "python",
   "name": "python2"
  },
  "language_info": {
   "codemirror_mode": {
    "name": "ipython",
    "version": 2
   },
   "file_extension": ".py",
   "mimetype": "text/x-python",
   "name": "python",
   "nbconvert_exporter": "python",
   "pygments_lexer": "ipython2",
   "version": "2.7.12"
  }
 },
 "nbformat": 4,
 "nbformat_minor": 1
}
