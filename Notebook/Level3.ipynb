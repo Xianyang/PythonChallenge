{
 "cells": [
  {
   "cell_type": "markdown",
   "metadata": {},
   "source": [
    "# Level3\n",
    "\n",
    "[Question](http://www.pythonchallenge.com/pc/def/equality.html)\n",
    "\n",
    "There is a picture on the webpage showing a small candle surrounded by three big candles on each side. And there is a sentence saying **One small letter, surrounded by EXACTLY three big bodyguards on each of its sides.**. So open the page source as usual. And you will see a block of code. The anwser is in the code. \n",
    "\n",
    "What we need to do is searching the code and finding a lower letter surrounded by exactly three upper letter on each side. So a loop can play the trick. \n",
    "\n",
    "Copy and paste the code to a txt file first. "
   ]
  },
  {
   "cell_type": "markdown",
   "metadata": {},
   "source": [
    "## Solution 1\n",
    "\n",
    "- time: O(n)\n",
    "- space: O(1)"
   ]
  },
  {
   "cell_type": "code",
   "execution_count": 1,
   "metadata": {
    "collapsed": false
   },
   "outputs": [
    {
     "name": "stdout",
     "output_type": "stream",
     "text": [
      "linkedlist\n"
     ]
    }
   ],
   "source": [
    "text = ''.join(line for line in open('../Resource/equality.txt'))\n",
    "text = text.replace('\\n', '')\n",
    "result = ''\n",
    "\n",
    "for i in range(len(text) - 8):\n",
    "    t1 = text[i] + text[i + 4] + text[i + 8]\n",
    "    t2 = text[i + 1 : i + 4] + text[i + 5: i + 8]\n",
    "\n",
    "    if t1.islower() and t2.isupper():\n",
    "        result += text[i + 4]\n",
    "\n",
    "print result"
   ]
  },
  {
   "cell_type": "markdown",
   "metadata": {},
   "source": [
    "## Solution 2\n",
    "\n",
    "- time: O(n)\n",
    "- space: O(1)"
   ]
  },
  {
   "cell_type": "code",
   "execution_count": 2,
   "metadata": {
    "collapsed": false
   },
   "outputs": [
    {
     "name": "stdout",
     "output_type": "stream",
     "text": [
      "linkedlist\n"
     ]
    }
   ],
   "source": [
    "result = ''\n",
    "znaki = [''] * 9\n",
    "for letter in text:\n",
    "    del znaki[0]\n",
    "    znaki.append(letter)\n",
    "    if not znaki[0].isupper() and \\\n",
    "        znaki[1].isupper() and \\\n",
    "        znaki[2].isupper() and \\\n",
    "        znaki[3].isupper() and \\\n",
    "        znaki[4].islower() and \\\n",
    "        znaki[5].isupper() and \\\n",
    "        znaki[6].isupper() and \\\n",
    "        znaki[7].isupper() and \\\n",
    "        not znaki[8].isupper():\n",
    "        result += znaki[4]\n",
    "\n",
    "print result"
   ]
  },
  {
   "cell_type": "markdown",
   "metadata": {},
   "source": [
    "## Solution 3\n",
    "- time: O(n^2)\n",
    "- space: O(1)"
   ]
  },
  {
   "cell_type": "code",
   "execution_count": 3,
   "metadata": {
    "collapsed": false
   },
   "outputs": [
    {
     "name": "stdout",
     "output_type": "stream",
     "text": [
      "linkedlist\n"
     ]
    }
   ],
   "source": [
    "import string\n",
    "result = ''\n",
    "for i in xrange(len(text) - 8):\n",
    "    if [c for c in text[i:i+9] if c in string.ascii_lowercase] == [text[i], text[i + 4], text[i + 8]]:\n",
    "        result += text[i + 4]\n",
    "\n",
    "print result"
   ]
  },
  {
   "cell_type": "markdown",
   "metadata": {},
   "source": [
    "## Solution 4\n",
    "- time: O(n)\n",
    "- space: O(1)\n",
    "\n",
    "This solution is fastest one among these four. "
   ]
  },
  {
   "cell_type": "code",
   "execution_count": 4,
   "metadata": {
    "collapsed": false
   },
   "outputs": [
    {
     "name": "stdout",
     "output_type": "stream",
     "text": [
      "linkedlist\n"
     ]
    }
   ],
   "source": [
    "import re\n",
    "result = ''.join(re.findall('[^A-Z][A-Z]{3}([a-z])[A-Z]{3}[^A-Z]', text))\n",
    "print result"
   ]
  },
  {
   "cell_type": "markdown",
   "metadata": {},
   "source": [
    "So the anwser is **linkedlist**. Here is the [link]() to next level"
   ]
  }
 ],
 "metadata": {
  "anaconda-cloud": {},
  "kernelspec": {
   "display_name": "Python [default]",
   "language": "python",
   "name": "python2"
  },
  "language_info": {
   "codemirror_mode": {
    "name": "ipython",
    "version": 2
   },
   "file_extension": ".py",
   "mimetype": "text/x-python",
   "name": "python",
   "nbconvert_exporter": "python",
   "pygments_lexer": "ipython2",
   "version": "2.7.12"
  }
 },
 "nbformat": 4,
 "nbformat_minor": 1
}
